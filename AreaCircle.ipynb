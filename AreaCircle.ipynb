{
 "cells": [
  {
   "cell_type": "code",
   "execution_count": 1,
   "id": "38ec3fc9-84d9-4d2f-ad67-67230d1045f3",
   "metadata": {},
   "outputs": [
    {
     "name": "stdin",
     "output_type": "stream",
     "text": [
      "Enter the radius of the circle:  6\n"
     ]
    },
    {
     "name": "stdout",
     "output_type": "stream",
     "text": [
      "The area of circle is : 113.04\n"
     ]
    }
   ],
   "source": [
    "#program to find area of circle in Python using π\n",
    "PI = 3.14\n",
    "r = float(input(\"Enter the radius of the circle: \"))\n",
    "area = PI * r * r\n",
    "print(\"The area of circle is : %.2f\" %area)\n"
   ]
  },
  {
   "cell_type": "code",
   "execution_count": null,
   "id": "1dc833a9-f506-414b-84d7-1d0f55b60cd3",
   "metadata": {},
   "outputs": [],
   "source": []
  }
 ],
 "metadata": {
  "kernelspec": {
   "display_name": "Python 3",
   "language": "python",
   "name": "python3"
  },
  "language_info": {
   "codemirror_mode": {
    "name": "ipython",
    "version": 3
   },
   "file_extension": ".py",
   "mimetype": "text/x-python",
   "name": "python",
   "nbconvert_exporter": "python",
   "pygments_lexer": "ipython3",
   "version": "3.8.8"
  }
 },
 "nbformat": 4,
 "nbformat_minor": 5
}
